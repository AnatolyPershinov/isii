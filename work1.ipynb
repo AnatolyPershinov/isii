{
 "cells": [
  {
   "attachments": {},
   "cell_type": "markdown",
   "metadata": {},
   "source": [
    "# Использование NumPy\n",
    "\n",
    "## Описание работы\n",
    "Данная работа представлена набором заданий, которые позволят на практике узнать о \n",
    "возможностях библиотеки Numerical Python.\n",
    "\n",
    "## Задачи\n",
    "    1. Выполнить установку и подключение библиотеки в программе на языке Python. Для этого \n",
    "    рекомендуется использовать менеджер пакетов pip.\n",
    "    2. Выполнить генерацию:\n",
    "        a. линейного массива (вектора) чисел с плавающей точкой произвольного размера;\n",
    "        b. выполнить генерацию двумерного массива (матрицы) чисел с плавающей точкой\n",
    "        произвольного размера;\n",
    "        c. генерацию массивов выполнять с размерностью в сотни, тысячи, сотни тысяч \n",
    "        элементов.\n",
    "        d. для каждого массива выполнить оценку времени, затраченного на генерацию.\n",
    "        e. сравнить показатели с массивами, генерируемыми средствами стандартной \n",
    "        библиотеки языка Python аналогичной размерности.\n",
    "    3. Выполнить все арифметические операции над элементами двумерного массива.\n",
    "    4. В качестве полноценного упражнения реализовать игру «Жизнь» использованием NumPy.\n",
    "\n",
    "## Отчет\n",
    "Отчет должен включать примеры выражений на языке Python по каждому пункту, а также \n",
    "примеры с частями выходных данных. Для пункта №4 необходимо привести полный листинг \n",
    "программы.\n",
    "\n",
    "Для защиты отчета необходимо выполнить пояснение представленного кода, а также доработку \n",
    "согласно требованиям (замечаниям) преподавателя (при наличии таковых)."
   ]
  },
  {
   "cell_type": "code",
   "execution_count": 1,
   "metadata": {},
   "outputs": [
    {
     "data": {
      "text/plain": [
       "(array([[0.11061325, 0.1882128 , 0.63839144, 0.2710373 , 0.22268373]]),\n",
       " array([[0.83804779, 0.98762115, 0.593983  , 0.33994261, 0.52078812],\n",
       "        [0.93147472, 0.0579752 , 0.12567403, 0.11424053, 0.80955257],\n",
       "        [0.7085427 , 0.49962879, 0.24752474, 0.47590494, 0.51057682],\n",
       "        [0.40246419, 0.24737967, 0.88397646, 0.53469982, 0.87526032],\n",
       "        [0.00565942, 0.08510835, 0.84733746, 0.86010015, 0.59104283]]))"
      ]
     },
     "execution_count": 1,
     "metadata": {},
     "output_type": "execute_result"
    }
   ],
   "source": [
    "import numpy as np\n",
    "\n",
    "array1d = np.random.rand(1, 5)\n",
    "array2d = np.random.rand(5, 5)\n",
    "array1d, array2d\n"
   ]
  },
  {
   "cell_type": "code",
   "execution_count": 2,
   "metadata": {},
   "outputs": [
    {
     "name": "stdout",
     "output_type": "stream",
     "text": [
      "numpy generator time 100x100 0.0\n",
      "py generator time 100x100 0.0009996891021728516\n",
      "numpy generator time 1000x1000 0.0070037841796875\n",
      "py generator time 1000x1000 0.07862401008605957\n",
      "numpy generator time 10000x10000 0.623837947845459\n",
      "py generator time 10000x10000 7.801115274429321\n"
     ]
    }
   ],
   "source": [
    "import numpy as np\n",
    "import random\n",
    "import time\n",
    "\n",
    "for k in [10**2, 10**3, 10**4]:\n",
    "    \"\"\"\n",
    "    if i choose 10**5 x 10**5 array size i will get Memory Error\n",
    "    \"\"\"\n",
    "    # array generation from numpy methods:\n",
    "    start = time.time()\n",
    "    np_array = np.random.rand(k, k) # two dimension np array\n",
    "    duration = time.time() - start\n",
    "    print(f\"numpy generator time {k}x{k}\", duration)\n",
    "    \n",
    "    # array generation from py methods\n",
    "    start = time.time()\n",
    "    py_array = [[random.random() for i in range(k)] for j in range(k)]\n",
    "    duration = time.time() - start\n",
    "    print(f\"py generator time {k}x{k}\", duration)"
   ]
  },
  {
   "cell_type": "code",
   "execution_count": 3,
   "metadata": {},
   "outputs": [
    {
     "data": {
      "text/plain": [
       "array([[1.19923777, 1.69018878, 1.15560555, 1.94807708, 1.44141678],\n",
       "       [0.80521832, 1.87153979, 1.06620774, 1.96674698, 1.53148317],\n",
       "       [0.49987688, 1.45438014, 0.57310971, 0.91530346, 0.61695652],\n",
       "       [0.41772075, 1.11639982, 0.53046422, 0.87368873, 0.92311326],\n",
       "       [0.55625323, 0.81226456, 0.75284379, 1.29812285, 1.16106879]])"
      ]
     },
     "execution_count": 3,
     "metadata": {},
     "output_type": "execute_result"
    }
   ],
   "source": [
    "import numpy as np\n",
    "\n",
    "array1 = np.random.rand(5, 5)\n",
    "array2 = np.random.rand(5, 5)\n",
    "\n",
    "# sum\n",
    "array1 + array2 \n",
    "# sub\n",
    "array1 - array2\n",
    "# mul\n",
    "array1 * array2\n",
    "# div\n",
    "array1/array2\n",
    "# exp\n",
    "array1**np.e\n",
    "# transponse\n",
    "array1.T\n",
    "# matrix multiplication\n",
    "array1@array2"
   ]
  },
  {
   "attachments": {},
   "cell_type": "markdown",
   "metadata": {},
   "source": [
    "## Conway's Game of Life"
   ]
  },
  {
   "cell_type": "code",
   "execution_count": 8,
   "metadata": {},
   "outputs": [
    {
     "name": "stderr",
     "output_type": "stream",
     "text": [
      "MovieWriter ffmpeg unavailable; using Pillow instead.\n"
     ]
    },
    {
     "data": {
      "image/png": "[encoded data removed]",
      "text/plain": [
       "<Figure size 1000x1000 with 1 Axes>"
      ]
     },
     "metadata": {},
     "output_type": "display_data"
    },
    {
     "data": {
      "text/plain": [
       "<matplotlib.animation.FuncAnimation at 0x1b335485ba8>"
      ]
     },
     "execution_count": 8,
     "metadata": {},
     "output_type": "execute_result"
    }
   ],
   "source": [
    "import numpy as np\n",
    "import matplotlib.pyplot as plt\n",
    "from matplotlib import animation\n",
    "from matplotlib.colors import ListedColormap\n",
    "\n",
    "\n",
    "grid, grid_size, img_plot = 0, 0, 0\n",
    "\n",
    "def initialize_life(size):\n",
    "    field = np.random.choice([0, 1], size * size, p=[0.8, 0.2]).reshape(size, size)\n",
    "    return field\n",
    "\n",
    "def step(frame):\n",
    "    global grid, grid_size, img_plot\n",
    "    if frame < 3:   # no movement for the first few steps\n",
    "        new_grid = grid\n",
    "    else:\n",
    "        new_grid = np.zeros_like(grid)\n",
    "        for x in range(grid_size):\n",
    "            for y in range(grid_size):\n",
    "                total = sum(\n",
    "                    [grid[(x + i) % grid_size, (y + j) % grid_size] for i in range(-1, 2) for j in range(-1, 2)])\n",
    "                if grid[x, y] == 1 and total - 1 in (2, 3):\n",
    "                    new_grid[x, y] = 1\n",
    "                elif grid[x, y] == 0 and total == 3:\n",
    "                    new_grid[x, y] = 1\n",
    "                else:\n",
    "                    new_grid[x, y] = 0\n",
    "        grid = new_grid\n",
    "    img_plot.set_data(new_grid)\n",
    "    return img_plot,\n",
    "\n",
    "def conway(random=True, size=100):\n",
    "    global grid, grid_size, img_plot\n",
    "    grid_size = size\n",
    "    grid = initialize_life(size)\n",
    "    fig, ax = plt.subplots(figsize=(10, 10))\n",
    "    img_plot = ax.imshow(grid, interpolation='nearest', cmap=ListedColormap(['white', 'gray']))\n",
    "    ax.set_xticks([])\n",
    "    ax.set_yticks([])\n",
    "    ani = animation.FuncAnimation(fig, frames=100, func=step, interval=100)\n",
    "    plt.tight_layout()\n",
    "    ani.save('conway_game_life.gif')\n",
    "    plt.show()\n",
    "    return ani\n",
    "\n",
    "conway(size=100)"
   ]
  }
 ],
 "metadata": {
  "kernelspec": {
   "display_name": "venv",
   "language": "python",
   "name": "python3"
  },
  "language_info": {
   "codemirror_mode": {
    "name": "ipython",
    "version": 3
   },
   "file_extension": ".py",
   "mimetype": "text/x-python",
   "name": "python",
   "nbconvert_exporter": "python",
   "pygments_lexer": "ipython3",
   "version": "3.7.0"
  },
  "orig_nbformat": 4,
  "vscode": {
   "interpreter": {
    "hash": "c9359d2c6f8ab17c596af3f44014dec5eff34a1aecf9e66522cd2c3437358623"
   }
  }
 },
 "nbformat": 4,
 "nbformat_minor": 2
}

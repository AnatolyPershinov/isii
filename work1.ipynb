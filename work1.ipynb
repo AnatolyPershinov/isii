{
 "cells": [
  {
   "attachments": {},
   "cell_type": "markdown",
   "metadata": {},
   "source": [
    "# Использование NumPy\n",
    "\n",
    "## Описание работы\n",
    "Данная работа представлена набором заданий, которые позволят на практике узнать о \n",
    "возможностях библиотеки Numerical Python.\n",
    "\n",
    "## Задачи\n",
    "    1. Выполнить установку и подключение библиотеки в программе на языке Python. Для этого \n",
    "    рекомендуется использовать менеджер пакетов pip.\n",
    "    2. Выполнить генерацию:\n",
    "        a. линейного массива (вектора) чисел с плавающей точкой произвольного размера;\n",
    "        b. выполнить генерацию двумерного массива (матрицы) чисел с плавающей точкой\n",
    "        произвольного размера;\n",
    "        c. генерацию массивов выполнять с размерностью в сотни, тысячи, сотни тысяч \n",
    "        элементов.\n",
    "        d. для каждого массива выполнить оценку времени, затраченного на генерацию.\n",
    "        e. сравнить показатели с массивами, генерируемыми средствами стандартной \n",
    "        библиотеки языка Python аналогичной размерности.\n",
    "    3. Выполнить все арифметические операции над элементами двумерного массива.\n",
    "    4. В качестве полноценного упражнения реализовать игру «Жизнь» использованием NumPy.\n",
    "\n",
    "## Отчет\n",
    "Отчет должен включать примеры выражений на языке Python по каждому пункту, а также \n",
    "примеры с частями выходных данных. Для пункта №4 необходимо привести полный листинг \n",
    "программы.\n",
    "\n",
    "Для защиты отчета необходимо выполнить пояснение представленного кода, а также доработку \n",
    "согласно требованиям (замечаниям) преподавателя (при наличии таковых)."
   ]
  },
  {
   "cell_type": "code",
   "execution_count": 1,
   "metadata": {},
   "outputs": [
    {
     "data": {
      "text/plain": [
       "(array([[0.26647342, 0.23469925, 0.56358402, 0.66803399, 0.49789993]]),\n",
       " array([[0.16799703, 0.27150411, 0.79507965, 0.41575871, 0.31636427],\n",
       "        [0.92547848, 0.28573352, 0.95763817, 0.66582706, 0.20080909],\n",
       "        [0.94814161, 0.62780683, 0.5883354 , 0.7431275 , 0.61847186],\n",
       "        [0.8998953 , 0.97676606, 0.38136995, 0.5435092 , 0.61442193],\n",
       "        [0.29525042, 0.9325707 , 0.20163125, 0.82086011, 0.07894046]]))"
      ]
     },
     "execution_count": 1,
     "metadata": {},
     "output_type": "execute_result"
    }
   ],
   "source": [
    "import numpy as np\n",
    "\n",
    "array1d = np.random.rand(1, 5)\n",
    "array2d = np.random.rand(5, 5)\n",
    "array1d, array2d\n"
   ]
  },
  {
   "cell_type": "code",
   "execution_count": 2,
   "metadata": {},
   "outputs": [
    {
     "name": "stdout",
     "output_type": "stream",
     "text": [
      "numpy generator time 100x100 0.0\n",
      "py generator time 100x100 0.0009965896606445312\n",
      "numpy generator time 1000x1000 0.0109710693359375\n",
      "py generator time 1000x1000 0.15327048301696777\n",
      "numpy generator time 10000x10000 1.053720474243164\n"
     ]
    },
    {
     "ename": "MemoryError",
     "evalue": "",
     "output_type": "error",
     "traceback": [
      "\u001b[1;31m---------------------------------------------------------------------------\u001b[0m",
      "\u001b[1;31mMemoryError\u001b[0m                               Traceback (most recent call last)",
      "\u001b[1;32m~\\AppData\\Local\\Temp\\ipykernel_27060\\330145593.py\u001b[0m in \u001b[0;36m<module>\u001b[1;34m\u001b[0m\n\u001b[0;32m     15\u001b[0m     \u001b[1;31m# array generation from py methods\u001b[0m\u001b[1;33m\u001b[0m\u001b[1;33m\u001b[0m\u001b[1;33m\u001b[0m\u001b[0m\n\u001b[0;32m     16\u001b[0m     \u001b[0mstart\u001b[0m \u001b[1;33m=\u001b[0m \u001b[0mtime\u001b[0m\u001b[1;33m.\u001b[0m\u001b[0mtime\u001b[0m\u001b[1;33m(\u001b[0m\u001b[1;33m)\u001b[0m\u001b[1;33m\u001b[0m\u001b[1;33m\u001b[0m\u001b[0m\n\u001b[1;32m---> 17\u001b[1;33m     \u001b[0mpy_array\u001b[0m \u001b[1;33m=\u001b[0m \u001b[1;33m[\u001b[0m\u001b[1;33m[\u001b[0m\u001b[0mrandom\u001b[0m\u001b[1;33m.\u001b[0m\u001b[0mrandom\u001b[0m\u001b[1;33m(\u001b[0m\u001b[1;33m)\u001b[0m \u001b[1;32mfor\u001b[0m \u001b[0mi\u001b[0m \u001b[1;32min\u001b[0m \u001b[0mrange\u001b[0m\u001b[1;33m(\u001b[0m\u001b[0mk\u001b[0m\u001b[1;33m)\u001b[0m\u001b[1;33m]\u001b[0m \u001b[1;32mfor\u001b[0m \u001b[0mj\u001b[0m \u001b[1;32min\u001b[0m \u001b[0mrange\u001b[0m\u001b[1;33m(\u001b[0m\u001b[0mk\u001b[0m\u001b[1;33m)\u001b[0m\u001b[1;33m]\u001b[0m\u001b[1;33m\u001b[0m\u001b[1;33m\u001b[0m\u001b[0m\n\u001b[0m\u001b[0;32m     18\u001b[0m     \u001b[0mduration\u001b[0m \u001b[1;33m=\u001b[0m \u001b[0mtime\u001b[0m\u001b[1;33m.\u001b[0m\u001b[0mtime\u001b[0m\u001b[1;33m(\u001b[0m\u001b[1;33m)\u001b[0m \u001b[1;33m-\u001b[0m \u001b[0mstart\u001b[0m\u001b[1;33m\u001b[0m\u001b[1;33m\u001b[0m\u001b[0m\n\u001b[0;32m     19\u001b[0m     \u001b[0mprint\u001b[0m\u001b[1;33m(\u001b[0m\u001b[1;34mf\"py generator time {k}x{k}\"\u001b[0m\u001b[1;33m,\u001b[0m \u001b[0mduration\u001b[0m\u001b[1;33m)\u001b[0m\u001b[1;33m\u001b[0m\u001b[1;33m\u001b[0m\u001b[0m\n",
      "\u001b[1;32m~\\AppData\\Local\\Temp\\ipykernel_27060\\330145593.py\u001b[0m in \u001b[0;36m<listcomp>\u001b[1;34m(.0)\u001b[0m\n\u001b[0;32m     15\u001b[0m     \u001b[1;31m# array generation from py methods\u001b[0m\u001b[1;33m\u001b[0m\u001b[1;33m\u001b[0m\u001b[1;33m\u001b[0m\u001b[0m\n\u001b[0;32m     16\u001b[0m     \u001b[0mstart\u001b[0m \u001b[1;33m=\u001b[0m \u001b[0mtime\u001b[0m\u001b[1;33m.\u001b[0m\u001b[0mtime\u001b[0m\u001b[1;33m(\u001b[0m\u001b[1;33m)\u001b[0m\u001b[1;33m\u001b[0m\u001b[1;33m\u001b[0m\u001b[0m\n\u001b[1;32m---> 17\u001b[1;33m     \u001b[0mpy_array\u001b[0m \u001b[1;33m=\u001b[0m \u001b[1;33m[\u001b[0m\u001b[1;33m[\u001b[0m\u001b[0mrandom\u001b[0m\u001b[1;33m.\u001b[0m\u001b[0mrandom\u001b[0m\u001b[1;33m(\u001b[0m\u001b[1;33m)\u001b[0m \u001b[1;32mfor\u001b[0m \u001b[0mi\u001b[0m \u001b[1;32min\u001b[0m \u001b[0mrange\u001b[0m\u001b[1;33m(\u001b[0m\u001b[0mk\u001b[0m\u001b[1;33m)\u001b[0m\u001b[1;33m]\u001b[0m \u001b[1;32mfor\u001b[0m \u001b[0mj\u001b[0m \u001b[1;32min\u001b[0m \u001b[0mrange\u001b[0m\u001b[1;33m(\u001b[0m\u001b[0mk\u001b[0m\u001b[1;33m)\u001b[0m\u001b[1;33m]\u001b[0m\u001b[1;33m\u001b[0m\u001b[1;33m\u001b[0m\u001b[0m\n\u001b[0m\u001b[0;32m     18\u001b[0m     \u001b[0mduration\u001b[0m \u001b[1;33m=\u001b[0m \u001b[0mtime\u001b[0m\u001b[1;33m.\u001b[0m\u001b[0mtime\u001b[0m\u001b[1;33m(\u001b[0m\u001b[1;33m)\u001b[0m \u001b[1;33m-\u001b[0m \u001b[0mstart\u001b[0m\u001b[1;33m\u001b[0m\u001b[1;33m\u001b[0m\u001b[0m\n\u001b[0;32m     19\u001b[0m     \u001b[0mprint\u001b[0m\u001b[1;33m(\u001b[0m\u001b[1;34mf\"py generator time {k}x{k}\"\u001b[0m\u001b[1;33m,\u001b[0m \u001b[0mduration\u001b[0m\u001b[1;33m)\u001b[0m\u001b[1;33m\u001b[0m\u001b[1;33m\u001b[0m\u001b[0m\n",
      "\u001b[1;32m~\\AppData\\Local\\Temp\\ipykernel_27060\\330145593.py\u001b[0m in \u001b[0;36m<listcomp>\u001b[1;34m(.0)\u001b[0m\n\u001b[0;32m     15\u001b[0m     \u001b[1;31m# array generation from py methods\u001b[0m\u001b[1;33m\u001b[0m\u001b[1;33m\u001b[0m\u001b[1;33m\u001b[0m\u001b[0m\n\u001b[0;32m     16\u001b[0m     \u001b[0mstart\u001b[0m \u001b[1;33m=\u001b[0m \u001b[0mtime\u001b[0m\u001b[1;33m.\u001b[0m\u001b[0mtime\u001b[0m\u001b[1;33m(\u001b[0m\u001b[1;33m)\u001b[0m\u001b[1;33m\u001b[0m\u001b[1;33m\u001b[0m\u001b[0m\n\u001b[1;32m---> 17\u001b[1;33m     \u001b[0mpy_array\u001b[0m \u001b[1;33m=\u001b[0m \u001b[1;33m[\u001b[0m\u001b[1;33m[\u001b[0m\u001b[0mrandom\u001b[0m\u001b[1;33m.\u001b[0m\u001b[0mrandom\u001b[0m\u001b[1;33m(\u001b[0m\u001b[1;33m)\u001b[0m \u001b[1;32mfor\u001b[0m \u001b[0mi\u001b[0m \u001b[1;32min\u001b[0m \u001b[0mrange\u001b[0m\u001b[1;33m(\u001b[0m\u001b[0mk\u001b[0m\u001b[1;33m)\u001b[0m\u001b[1;33m]\u001b[0m \u001b[1;32mfor\u001b[0m \u001b[0mj\u001b[0m \u001b[1;32min\u001b[0m \u001b[0mrange\u001b[0m\u001b[1;33m(\u001b[0m\u001b[0mk\u001b[0m\u001b[1;33m)\u001b[0m\u001b[1;33m]\u001b[0m\u001b[1;33m\u001b[0m\u001b[1;33m\u001b[0m\u001b[0m\n\u001b[0m\u001b[0;32m     18\u001b[0m     \u001b[0mduration\u001b[0m \u001b[1;33m=\u001b[0m \u001b[0mtime\u001b[0m\u001b[1;33m.\u001b[0m\u001b[0mtime\u001b[0m\u001b[1;33m(\u001b[0m\u001b[1;33m)\u001b[0m \u001b[1;33m-\u001b[0m \u001b[0mstart\u001b[0m\u001b[1;33m\u001b[0m\u001b[1;33m\u001b[0m\u001b[0m\n\u001b[0;32m     19\u001b[0m     \u001b[0mprint\u001b[0m\u001b[1;33m(\u001b[0m\u001b[1;34mf\"py generator time {k}x{k}\"\u001b[0m\u001b[1;33m,\u001b[0m \u001b[0mduration\u001b[0m\u001b[1;33m)\u001b[0m\u001b[1;33m\u001b[0m\u001b[1;33m\u001b[0m\u001b[0m\n",
      "\u001b[1;31mMemoryError\u001b[0m: "
     ]
    }
   ],
   "source": [
    "import numpy as np\n",
    "import random\n",
    "import time\n",
    "\n",
    "for k in [10**2, 10**3, 10**4]:\n",
    "    \"\"\"\n",
    "    if i choose 10**5 x 10**5 array size i will get Memory Error\n",
    "    \"\"\"\n",
    "    # array generation from numpy methods:\n",
    "    start = time.time()\n",
    "    np_array = np.random.rand(k, k) # two dimension np array\n",
    "    duration = time.time() - start\n",
    "    print(f\"numpy generator time {k}x{k}\", duration)\n",
    "    \n",
    "    # array generation from py methods\n",
    "    start = time.time()\n",
    "    py_array = [[random.random() for i in range(k)] for j in range(k)]\n",
    "    duration = time.time() - start\n",
    "    print(f\"py generator time {k}x{k}\", duration)"
   ]
  },
  {
   "cell_type": "code",
   "execution_count": null,
   "metadata": {},
   "outputs": [
    {
     "ename": "",
     "evalue": "",
     "output_type": "error",
     "traceback": [
      "\u001b[1;31mДля выполнения ячеек с \"Python 3.7.3 ('venv': venv)\" требуется пакет ipykernel.\n",
      "\u001b[1;31mВыполните следующую команду, чтобы установить \"ipykernel\" в среде Python. \n",
      "\u001b[1;31mКоманда: \"e:/isii/venv/Scripts/python.exe -m pip install ipykernel -U --force-reinstall\""
     ]
    }
   ],
   "source": [
    "import numpy as np\n",
    "\n",
    "array1 = np.random.rand(5, 5)\n",
    "array2 = np.random.rand(5, 5)\n",
    "\n",
    "# sum\n",
    "array1 + array2 \n",
    "# sub\n",
    "array1 - array2\n",
    "# mul\n",
    "array1 * array2\n",
    "# div\n",
    "array1/array2\n",
    "# exp\n",
    "array1**np.e\n",
    "# transponse\n",
    "array1.T\n",
    "# matrix multiplication\n",
    "array1@array2"
   ]
  },
  {
   "attachments": {},
   "cell_type": "markdown",
   "metadata": {},
   "source": [
    "## Conway's Game of Life"
   ]
  },
  {
   "cell_type": "code",
   "execution_count": null,
   "metadata": {},
   "outputs": [
    {
     "ename": "",
     "evalue": "",
     "output_type": "error",
     "traceback": [
      "\u001b[1;31mДля выполнения ячеек с \"Python 3.7.3 ('venv': venv)\" требуется пакет ipykernel.\n",
      "\u001b[1;31mВыполните следующую команду, чтобы установить \"ipykernel\" в среде Python. \n",
      "\u001b[1;31mКоманда: \"e:/isii/venv/Scripts/python.exe -m pip install ipykernel -U --force-reinstall\""
     ]
    }
   ],
   "source": [
    "import numpy as np\n",
    "import matplotlib.pyplot as plt\n",
    "from matplotlib import animation\n",
    "from matplotlib.colors import ListedColormap\n",
    "\n",
    "\n",
    "grid, grid_size, img_plot = 0, 0, 0\n",
    "\n",
    "def initialize_life(size):\n",
    "    field = np.random.choice([0, 1], size * size, p=[0.8, 0.2]).reshape(size, size)\n",
    "    return field\n",
    "\n",
    "def step(frame):\n",
    "    global grid, grid_size, img_plot\n",
    "    if frame < 3:   # no movement for the first few steps\n",
    "        new_grid = grid\n",
    "    else:\n",
    "        new_grid = np.zeros_like(grid)\n",
    "        for x in range(grid_size):\n",
    "            for y in range(grid_size):\n",
    "                total = sum(\n",
    "                    [grid[(x + i) % grid_size, (y + j) % grid_size] for i in range(-1, 2) for j in range(-1, 2)])\n",
    "                if grid[x, y] == 1 and total - 1 in (2, 3):\n",
    "                    new_grid[x, y] = 1\n",
    "                elif grid[x, y] == 0 and total == 3:\n",
    "                    new_grid[x, y] = 1\n",
    "                else:\n",
    "                    new_grid[x, y] = 0\n",
    "        grid = new_grid\n",
    "    img_plot.set_data(new_grid)\n",
    "    return img_plot,\n",
    "\n",
    "def conway(random=True, size=100):\n",
    "    global grid, grid_size, img_plot\n",
    "    grid_size = size\n",
    "    grid = initialize_life(size)\n",
    "    fig, ax = plt.subplots(figsize=(10, 10))\n",
    "    img_plot = ax.imshow(grid, interpolation='nearest', cmap=ListedColormap(['white', 'gray']))\n",
    "    ax.set_xticks([])\n",
    "    ax.set_yticks([])\n",
    "    ani = animation.FuncAnimation(fig, frames=100, func=step, interval=100)\n",
    "    plt.tight_layout()\n",
    "    ani.save('conway_game_life.gif')\n",
    "    plt.show()\n",
    "    return ani\n",
    "\n",
    "conway(size=100)"
   ]
  }
 ],
 "metadata": {
  "kernelspec": {
   "display_name": "Python 3.7.3 ('venv': venv)",
   "language": "python",
   "name": "python3"
  },
  "language_info": {
   "codemirror_mode": {
    "name": "ipython",
    "version": 3
   },
   "file_extension": ".py",
   "mimetype": "text/x-python",
   "name": "python",
   "nbconvert_exporter": "python",
   "pygments_lexer": "ipython3",
   "version": "3.7.3"
  },
  "orig_nbformat": 4,
  "vscode": {
   "interpreter": {
    "hash": "5ffa3d181cca5b300f78705575aa523eb1a332dfc4b028aee87bae177c963d6c"
   }
  }
 },
 "nbformat": 4,
 "nbformat_minor": 2
}
